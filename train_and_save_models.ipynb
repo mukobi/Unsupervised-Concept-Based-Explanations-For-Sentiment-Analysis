{
 "cells": [
  {
   "cell_type": "markdown",
   "metadata": {},
   "source": [
    "# Train and Save Models\n",
    "\n",
    "Run this script to train all the models on the training data (DynaSent round 2) and save the models as .pt files."
   ]
  },
  {
   "cell_type": "markdown",
   "metadata": {},
   "source": [
    "## Set-up\n",
    "\n",
    "See [the first notebook in this unit](sst_01_overview.ipynb#Set-up) for set-up instructions."
   ]
  },
  {
   "cell_type": "code",
   "execution_count": 1,
   "metadata": {},
   "outputs": [],
   "source": [
    "import os\n",
    "import numpy as np\n",
    "import pandas as pd\n",
    "import torch\n",
    "import torch.nn as nn\n",
    "from sklearn.metrics import accuracy_score\n",
    "from datasets import load_dataset\n",
    "import transformers\n",
    "\n",
    "import sst\n",
    "import utils"
   ]
  },
  {
   "cell_type": "code",
   "execution_count": 2,
   "metadata": {},
   "outputs": [],
   "source": [
    "transformers.utils.logging.set_verbosity_error()\n",
    "device = \"cuda\" if torch.cuda.is_available() else \"cpu\"\n",
    "utils.fix_random_seeds()"
   ]
  },
  {
   "cell_type": "markdown",
   "metadata": {},
   "source": [
    "## Dataset"
   ]
  },
  {
   "cell_type": "markdown",
   "metadata": {},
   "source": [
    "Our primary train/dev/test set is DynaSent Round 2. See more details here: https://huggingface.co/datasets/dynabench/dynasent"
   ]
  },
  {
   "cell_type": "code",
   "execution_count": 3,
   "metadata": {},
   "outputs": [
    {
     "name": "stderr",
     "output_type": "stream",
     "text": [
      "Reusing dataset dynabench_dyna_sent (C:\\Users\\Gabe\\.cache\\huggingface\\datasets\\dynabench___dynabench_dyna_sent\\dynabench.dynasent.r1.all\\1.1.0\\ab89971d9ae1aacc59ed44d6855bf0e89167417257e2c2666f38e532148f2967)\n",
      "100%|██████████| 3/3 [00:00<00:00, 428.16it/s]\n",
      "Reusing dataset dynabench_dyna_sent (C:\\Users\\Gabe\\.cache\\huggingface\\datasets\\dynabench___dynabench_dyna_sent\\dynabench.dynasent.r2.all\\1.1.0\\ab89971d9ae1aacc59ed44d6855bf0e89167417257e2c2666f38e532148f2967)\n",
      "100%|██████████| 3/3 [00:00<00:00, 499.46it/s]"
     ]
    },
    {
     "name": "stdout",
     "output_type": "stream",
     "text": [
      "dyna_r2_train.shape: (13065, 12)\n",
      "dyna_r2_dev.shape: (720, 12)\n",
      "Train dataset length: 13065\n",
      "Test dataset length:  4320\n"
     ]
    },
    {
     "name": "stderr",
     "output_type": "stream",
     "text": [
      "\n"
     ]
    }
   ],
   "source": [
    "dyna_r1 = load_dataset(\"dynabench/dynasent\", \"dynabench.dynasent.r1.all\")\n",
    "dyna_r1_train = dyna_r1['train'].to_pandas()\n",
    "dyna_r1_dev = dyna_r1['validation'].to_pandas()\n",
    "dyna_r2 = load_dataset(\"dynabench/dynasent\", \"dynabench.dynasent.r2.all\")\n",
    "dyna_r2_train = dyna_r2['train'].to_pandas()\n",
    "dyna_r2_dev = dyna_r2['validation'].to_pandas()\n",
    "print(f'dyna_r2_train.shape: {dyna_r2_train.shape}')\n",
    "print(f'dyna_r2_dev.shape: {dyna_r2_dev.shape}')\n",
    "\n",
    "TRAIN_DATAFRAMES = [dyna_r1_train, dyna_r2_train]\n",
    "TRAIN_DATAFRAMES = [dyna_r2_train] # Only train on r2 for speed\n",
    "DEV_DATAFRAMES = [dyna_r1_dev, dyna_r2_dev]\n",
    "\n",
    "print(f'Train dataset length: {sum([len(df) for df in TRAIN_DATAFRAMES])}')\n",
    "print(f'Test dataset length:  {sum([len(df) for df in DEV_DATAFRAMES])}')"
   ]
  },
  {
   "cell_type": "code",
   "execution_count": 4,
   "metadata": {},
   "outputs": [
    {
     "data": {
      "text/plain": [
       "[{'id': 'r2-0002527',\n",
       "  'hit_ids': array(['y23152'], dtype=object),\n",
       "  'sentence': \"The car is unsafe and Peoria Ford just says  us it's Ford.\",\n",
       "  'sentence_author': 'w1985',\n",
       "  'has_prompt': True,\n",
       "  'prompt_data': {'indices_into_review_text': array([378, 442]),\n",
       "   'review_rating': 1,\n",
       "   'prompt_sentence': \"The car is unsafe and Peoria Ford just says it not us it's Ford.\",\n",
       "   'review_id': 'kUMkF_C6KVS4bRbOx_libQ'},\n",
       "  'model_1_label': 'negative',\n",
       "  'model_1_probs': {'negative': 0.7570458054542542,\n",
       "   'positive': 0.14265362918376923,\n",
       "   'neutral': 0.1003006249666214},\n",
       "  'text_id': 'r2-0002527',\n",
       "  'label_distribution': {'positive': array(['w121'], dtype=object),\n",
       "   'negative': array(['w128', 'w23', 'w130', 'w80'], dtype=object),\n",
       "   'neutral': array([], dtype=object),\n",
       "   'mixed': array([], dtype=object)},\n",
       "  'gold_label': 'negative',\n",
       "  'metadata': {'split': 'train',\n",
       "   'round': 2,\n",
       "   'subset': 'all',\n",
       "   'model_in_the_loop': 'RoBERTa'}}]"
      ]
     },
     "execution_count": 4,
     "metadata": {},
     "output_type": "execute_result"
    }
   ],
   "source": [
    "dyna_r2_train.sample(1, random_state=1).to_dict(orient='records')"
   ]
  },
  {
   "cell_type": "markdown",
   "metadata": {},
   "source": [
    "Here is the label distribution:"
   ]
  },
  {
   "cell_type": "code",
   "execution_count": 5,
   "metadata": {},
   "outputs": [
    {
     "name": "stdout",
     "output_type": "stream",
     "text": [
      "dyna_r1_train:\n",
      "neutral     45076\n",
      "positive    21391\n",
      "negative    14021\n",
      "Name: gold_label, dtype: int64\n",
      "dyna_r2_train:\n",
      "positive    6038\n",
      "negative    4579\n",
      "neutral     2448\n",
      "Name: gold_label, dtype: int64\n",
      "dyna_r1_dev:\n",
      "positive    1200\n",
      "neutral     1200\n",
      "negative    1200\n",
      "Name: gold_label, dtype: int64\n",
      "dyna_r2_dev:\n",
      "neutral     240\n",
      "negative    240\n",
      "positive    240\n",
      "Name: gold_label, dtype: int64\n"
     ]
    }
   ],
   "source": [
    "print(\"dyna_r1_train:\")\n",
    "print(dyna_r1_train.gold_label.value_counts())\n",
    "print(\"dyna_r2_train:\")\n",
    "print(dyna_r2_train.gold_label.value_counts())\n",
    "print(\"dyna_r1_dev:\")\n",
    "print(dyna_r1_dev.gold_label.value_counts())\n",
    "print(\"dyna_r2_dev:\")\n",
    "print(dyna_r2_dev.gold_label.value_counts())\n"
   ]
  },
  {
   "cell_type": "code",
   "execution_count": 6,
   "metadata": {},
   "outputs": [
    {
     "data": {
      "text/plain": [
       "<AxesSubplot:>"
      ]
     },
     "execution_count": 6,
     "metadata": {},
     "output_type": "execute_result"
    },
    {
     "data": {
      "image/png": "[encoded data removed]",
      "text/plain": [
       "<Figure size 432x288 with 1 Axes>"
      ]
     },
     "metadata": {
      "needs_background": "light"
     },
     "output_type": "display_data"
    }
   ],
   "source": [
    "dyna_r2_train.gold_label.value_counts().plot.bar()"
   ]
  },
  {
   "cell_type": "code",
   "execution_count": 7,
   "metadata": {},
   "outputs": [
    {
     "data": {
      "text/plain": [
       "<AxesSubplot:>"
      ]
     },
     "execution_count": 7,
     "metadata": {},
     "output_type": "execute_result"
    },
    {
     "data": {
      "image/png": "[encoded data removed]",
      "text/plain": [
       "<Figure size 432x288 with 1 Axes>"
      ]
     },
     "metadata": {
      "needs_background": "light"
     },
     "output_type": "display_data"
    }
   ],
   "source": [
    "dyna_r2_dev.gold_label.value_counts().plot.bar()"
   ]
  },
  {
   "cell_type": "markdown",
   "metadata": {},
   "source": [
    "## RNNClassifier wrapper\n",
    "\n",
    "This section illustrates how to use `sst.experiment` with `TorchRNNClassifier`."
   ]
  },
  {
   "cell_type": "markdown",
   "metadata": {},
   "source": [
    "To featurize examples for an RNN, we can just get the words in order, letting the model take care of mapping them into an embedding space."
   ]
  },
  {
   "cell_type": "code",
   "execution_count": 8,
   "metadata": {},
   "outputs": [],
   "source": [
    "def rnn_phi(text):\n",
    "    return text.split()"
   ]
  },
  {
   "cell_type": "markdown",
   "metadata": {},
   "source": [
    "The model wrapper gets the vocabulary using `sst.get_vocab`. If you want to use pretrained word representations in here, then you can have `fit_rnn_classifier` build that space too; see [this notebook section for details](sst_03_neural_networks.ipynb#Pretrained-embeddings). See also [torch_model_base.py](torch_model_base.py) for details on the many optimization parameters that `TorchRNNClassifier` accepts."
   ]
  },
  {
   "cell_type": "code",
   "execution_count": 9,
   "metadata": {},
   "outputs": [],
   "source": [
    "# def fit_rnn_classifier(X, y):\n",
    "#     sst_glove_vocab = utils.get_vocab(X, mincount=2)\n",
    "#     mod = TorchRNNClassifier(\n",
    "#         sst_glove_vocab,\n",
    "#         early_stopping=True)\n",
    "#     mod.fit(X, y)\n",
    "#     return mod"
   ]
  },
  {
   "cell_type": "code",
   "execution_count": 10,
   "metadata": {},
   "outputs": [],
   "source": [
    "# rnn_experiment = sst.experiment(\n",
    "#     dyna_r2_train,\n",
    "#     rnn_phi,\n",
    "#     fit_rnn_classifier,\n",
    "#     vectorize=False,\n",
    "#     assess_dataframes=DEV_DATAFRAMES)\n"
   ]
  },
  {
   "cell_type": "markdown",
   "metadata": {},
   "source": [
    "### Train and Save the Models"
   ]
  },
  {
   "cell_type": "code",
   "execution_count": 11,
   "metadata": {},
   "outputs": [
    {
     "name": "stdout",
     "output_type": "stream",
     "text": [
      "Beginning experiment on model sentiment_classifier_roberta_base...                                                                                                                                                                                                                                                                                                                                                                                                                                                                                                                                                                                                                                                                                                                                                                                                                                                                                                                                                                                                                                         \r"
     ]
    },
    {
     "name": "stderr",
     "output_type": "stream",
     "text": [
      "Epoch 6/20 (score 0.808, error 44.85): Batch 125/735 (17.01% epoch, 25.85% training). Epoch 0.39 min elapsed, 1.89 min remaining. Training 10.63 min elapsed, 30.48 min remaining.                                                                                                                                                                                                                                                                                                                                                                                                                                                                                                                                                                                                                                                                                                                                                                                                                                                                                                                                                                                                                                          \r"
     ]
    }
   ],
   "source": [
    "from sentiment_models import SentimentClassifierLSTM, SentimentClassifierRoberta, SentimentClassifierDynasent\n",
    "\n",
    "transformer_hyperparams = {\n",
    "    'gradient_accumulation_steps': 2,\n",
    "    'eta': 2e-05,\n",
    "    'max_iter': 20,\n",
    "    'batch_size': 16,\n",
    "    'n_iter_no_change': 5,\n",
    "    'tol': 1e-7,\n",
    "    'early_stopping': True,\n",
    "    'display_progress': True,\n",
    "}\n",
    "search_hyperparams = {\n",
    "    'gradient_accumulation_steps': [2],\n",
    "    'eta': [2e-05],\n",
    "    'max_iter': [20],\n",
    "    'batch_size': [16],\n",
    "    'n_iter_no_change': [5],\n",
    "    'tol': [1e-7],\n",
    "    'early_stopping': [True],\n",
    "    'display_progress': [True],\n",
    "}\n",
    "lstm_hyperparams = {\n",
    "    'tol': 1e-5,           # for \"earlier stopping\" to prevent overfitting\n",
    "    'early_stopping': True,\n",
    "}\n",
    "\n",
    "def phi(text):\n",
    "    return text\n",
    "\n",
    "model_classes_to_test = [\n",
    "    # (SentimentClassifierLSTM, lstm_hyperparams), # TODO(gabe) uncomment when implemented\n",
    "    (SentimentClassifierRoberta, transformer_hyperparams),\n",
    "    (SentimentClassifierDynasent, transformer_hyperparams),\n",
    "]\n",
    "\n",
    "for model_class, hyperparams in model_classes_to_test:\n",
    "    for use_aan in [False, True]:\n",
    "        print('Instantiating model...', ' ' * 1000, end='\\r')\n",
    "        model = model_class(use_aan, hyperparams)\n",
    "        print(f'Beginning experiment on model {model}...', ' ' * 1000, end='\\r')\n",
    "        \n",
    "        def train_classifier(X, y):\n",
    "            basemod = model\n",
    "            # utils.fit_classifier_with_hyperparameter_search(X, y, basemod, 5, search_hyperparams)\n",
    "            basemod.fit(X, y)\n",
    "            return basemod\n",
    "\n",
    "        experiment = sst.experiment(\n",
    "            TRAIN_DATAFRAMES,\n",
    "            phi,\n",
    "            train_classifier,\n",
    "            assess_dataframes=DEV_DATAFRAMES,\n",
    "            vectorize=False,\n",
    "            verbose=True,\n",
    "            random_state=42)\n",
    "\n",
    "        torch.save(experiment, os.path.join('models', f'experiment_{model}.pt'))\n",
    "\n",
    "        del experiment # Free memory, for continually test without GPU OOM"
   ]
  },
  {
   "cell_type": "code",
   "execution_count": null,
   "metadata": {},
   "outputs": [
    {
     "data": {
      "image/png": "[encoded data removed]",
      "text/plain": [
       "<Figure size 720x720 with 1 Axes>"
      ]
     },
     "metadata": {
      "needs_background": "light"
     },
     "output_type": "display_data"
    }
   ],
   "source": [
    "# Plot validation scores computed during training on held-out portions of the train set\n",
    "def plot_scores():\n",
    "    from matplotlib import pyplot as plt\n",
    "    # TODO graph .validation_scores\n",
    "    plt.rcParams[\"figure.figsize\"] = 10, 10\n",
    "    for experiment in experiments:\n",
    "        scores = experiment['model'].validation_scores\n",
    "        epochs = list(range(1, len(scores) + 1))\n",
    "        plt.plot(epochs, scores, label=f'{experiment[\"model\"]}')\n",
    "        # Data labels\n",
    "        rounded_scores = [round(score, 3) for score in scores]\n",
    "        for xy in zip(epochs, rounded_scores):\n",
    "            plt.annotate('(%s, %s)' % xy, xy=xy, textcoords='data')\n",
    "\n",
    "    plt.ylabel('Mean of Macro F1 Scores (Training)')\n",
    "    plt.xlabel('Epoch')\n",
    "    plt.title('Validation Scores (Training)')\n",
    "    plt.grid()\n",
    "    plt.xticks(epochs)\n",
    "    plt.legend()\n",
    "\n",
    "\n",
    "    plt.show()\n",
    "\n",
    "plot_scores()"
   ]
  }
 ],
 "metadata": {
  "interpreter": {
   "hash": "bd4d19e17a8bbf0cd4a82a88ff3e307671f5de846baee4caab569fdde62d79d5"
  },
  "kernelspec": {
   "display_name": "Python 3.9.7 ('nlu')",
   "language": "python",
   "name": "python3"
  },
  "language_info": {
   "codemirror_mode": {
    "name": "ipython",
    "version": 3
   },
   "file_extension": ".py",
   "mimetype": "text/x-python",
   "name": "python",
   "nbconvert_exporter": "python",
   "pygments_lexer": "ipython3",
   "version": "3.9.7"
  },
  "widgets": {
   "state": {},
   "version": "1.1.2"
  }
 },
 "nbformat": 4,
 "nbformat_minor": 4
}
