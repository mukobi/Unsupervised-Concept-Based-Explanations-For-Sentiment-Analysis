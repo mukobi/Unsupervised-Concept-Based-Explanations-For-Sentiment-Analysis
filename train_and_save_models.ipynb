{
 "cells": [
  {
   "cell_type": "markdown",
   "metadata": {},
   "source": [
    "# Train and Save Models\n",
    "\n",
    "Run this script to train all the models on the training data (DynaSent round 2) and save the models as .pt files."
   ]
  },
  {
   "cell_type": "markdown",
   "metadata": {},
   "source": [
    "## Set-up\n",
    "\n",
    "See [the first notebook in this unit](sst_01_overview.ipynb#Set-up) for set-up instructions."
   ]
  },
  {
   "cell_type": "code",
   "execution_count": 1,
   "metadata": {},
   "outputs": [],
   "source": [
    "import os\n",
    "import numpy as np\n",
    "import pandas as pd\n",
    "import torch\n",
    "import torch.nn as nn\n",
    "from sklearn.metrics import accuracy_score\n",
    "from datasets import load_dataset\n",
    "import transformers\n",
    "\n",
    "import sst\n",
    "import utils"
   ]
  },
  {
   "cell_type": "code",
   "execution_count": 2,
   "metadata": {},
   "outputs": [],
   "source": [
    "transformers.utils.logging.set_verbosity_error()\n",
    "device = \"cuda\" if torch.cuda.is_available() else \"cpu\"\n",
    "utils.fix_random_seeds()"
   ]
  },
  {
   "cell_type": "markdown",
   "metadata": {},
   "source": [
    "## Dataset"
   ]
  },
  {
   "cell_type": "markdown",
   "metadata": {},
   "source": [
    "Our primary train/dev/test set is DynaSent Round 2. See more details here: https://huggingface.co/datasets/dynabench/dynasent"
   ]
  },
  {
   "cell_type": "code",
   "execution_count": 3,
   "metadata": {},
   "outputs": [
    {
     "name": "stderr",
     "output_type": "stream",
     "text": [
      "Reusing dataset dynabench_dyna_sent (C:\\Users\\Gabe\\.cache\\huggingface\\datasets\\dynabench___dynabench_dyna_sent\\dynabench.dynasent.r1.all\\1.1.0\\ab89971d9ae1aacc59ed44d6855bf0e89167417257e2c2666f38e532148f2967)\n",
      "100%|██████████| 3/3 [00:00<00:00, 428.18it/s]\n",
      "Reusing dataset dynabench_dyna_sent (C:\\Users\\Gabe\\.cache\\huggingface\\datasets\\dynabench___dynabench_dyna_sent\\dynabench.dynasent.r2.all\\1.1.0\\ab89971d9ae1aacc59ed44d6855bf0e89167417257e2c2666f38e532148f2967)\n",
      "100%|██████████| 3/3 [00:00<00:00, 499.58it/s]"
     ]
    },
    {
     "name": "stdout",
     "output_type": "stream",
     "text": [
      "dyna_r2_train.shape: (13065, 12)\n",
      "dyna_r2_dev.shape: (720, 12)\n",
      "Train dataset length: 13065\n",
      "Test dataset length:  4320\n"
     ]
    },
    {
     "name": "stderr",
     "output_type": "stream",
     "text": [
      "\n"
     ]
    }
   ],
   "source": [
    "dyna_r1 = load_dataset(\"dynabench/dynasent\", \"dynabench.dynasent.r1.all\")\n",
    "dyna_r1_train = dyna_r1['train'].to_pandas()\n",
    "dyna_r1_dev = dyna_r1['validation'].to_pandas()\n",
    "dyna_r2 = load_dataset(\"dynabench/dynasent\", \"dynabench.dynasent.r2.all\")\n",
    "dyna_r2_train = dyna_r2['train'].to_pandas()\n",
    "dyna_r2_dev = dyna_r2['validation'].to_pandas()\n",
    "print(f'dyna_r2_train.shape: {dyna_r2_train.shape}')\n",
    "print(f'dyna_r2_dev.shape: {dyna_r2_dev.shape}')\n",
    "\n",
    "TRAIN_DATAFRAMES = [dyna_r1_train, dyna_r2_train]\n",
    "TRAIN_DATAFRAMES = [dyna_r2_train] # Only train on r2 for speed\n",
    "DEV_DATAFRAMES = [dyna_r1_dev, dyna_r2_dev]\n",
    "\n",
    "print(f'Train dataset length: {sum([len(df) for df in TRAIN_DATAFRAMES])}')\n",
    "print(f'Test dataset length:  {sum([len(df) for df in DEV_DATAFRAMES])}')"
   ]
  },
  {
   "cell_type": "code",
   "execution_count": 4,
   "metadata": {},
   "outputs": [
    {
     "data": {
      "text/plain": [
       "[{'id': 'r2-0002527',\n",
       "  'hit_ids': array(['y23152'], dtype=object),\n",
       "  'sentence': \"The car is unsafe and Peoria Ford just says  us it's Ford.\",\n",
       "  'sentence_author': 'w1985',\n",
       "  'has_prompt': True,\n",
       "  'prompt_data': {'indices_into_review_text': array([378, 442]),\n",
       "   'review_rating': 1,\n",
       "   'prompt_sentence': \"The car is unsafe and Peoria Ford just says it not us it's Ford.\",\n",
       "   'review_id': 'kUMkF_C6KVS4bRbOx_libQ'},\n",
       "  'model_1_label': 'negative',\n",
       "  'model_1_probs': {'negative': 0.7570458054542542,\n",
       "   'positive': 0.14265362918376923,\n",
       "   'neutral': 0.1003006249666214},\n",
       "  'text_id': 'r2-0002527',\n",
       "  'label_distribution': {'positive': array(['w121'], dtype=object),\n",
       "   'negative': array(['w128', 'w23', 'w130', 'w80'], dtype=object),\n",
       "   'neutral': array([], dtype=object),\n",
       "   'mixed': array([], dtype=object)},\n",
       "  'gold_label': 'negative',\n",
       "  'metadata': {'split': 'train',\n",
       "   'round': 2,\n",
       "   'subset': 'all',\n",
       "   'model_in_the_loop': 'RoBERTa'}}]"
      ]
     },
     "execution_count": 4,
     "metadata": {},
     "output_type": "execute_result"
    }
   ],
   "source": [
    "dyna_r2_train.sample(1, random_state=1).to_dict(orient='records')"
   ]
  },
  {
   "cell_type": "markdown",
   "metadata": {},
   "source": [
    "Here is the label distribution:"
   ]
  },
  {
   "cell_type": "code",
   "execution_count": 5,
   "metadata": {},
   "outputs": [
    {
     "name": "stdout",
     "output_type": "stream",
     "text": [
      "dyna_r1_train:\n",
      "neutral     45076\n",
      "positive    21391\n",
      "negative    14021\n",
      "Name: gold_label, dtype: int64\n",
      "dyna_r2_train:\n",
      "positive    6038\n",
      "negative    4579\n",
      "neutral     2448\n",
      "Name: gold_label, dtype: int64\n",
      "dyna_r1_dev:\n",
      "positive    1200\n",
      "neutral     1200\n",
      "negative    1200\n",
      "Name: gold_label, dtype: int64\n",
      "dyna_r2_dev:\n",
      "neutral     240\n",
      "negative    240\n",
      "positive    240\n",
      "Name: gold_label, dtype: int64\n"
     ]
    }
   ],
   "source": [
    "print(\"dyna_r1_train:\")\n",
    "print(dyna_r1_train.gold_label.value_counts())\n",
    "print(\"dyna_r2_train:\")\n",
    "print(dyna_r2_train.gold_label.value_counts())\n",
    "print(\"dyna_r1_dev:\")\n",
    "print(dyna_r1_dev.gold_label.value_counts())\n",
    "print(\"dyna_r2_dev:\")\n",
    "print(dyna_r2_dev.gold_label.value_counts())\n"
   ]
  },
  {
   "cell_type": "code",
   "execution_count": 6,
   "metadata": {},
   "outputs": [
    {
     "data": {
      "text/plain": [
       "<AxesSubplot:>"
      ]
     },
     "execution_count": 6,
     "metadata": {},
     "output_type": "execute_result"
    },
    {
     "data": {
      "image/png": "[encoded data removed]",
      "text/plain": [
       "<Figure size 432x288 with 1 Axes>"
      ]
     },
     "metadata": {
      "needs_background": "light"
     },
     "output_type": "display_data"
    }
   ],
   "source": [
    "dyna_r2_train.gold_label.value_counts().plot.bar()"
   ]
  },
  {
   "cell_type": "code",
   "execution_count": 7,
   "metadata": {},
   "outputs": [
    {
     "data": {
      "text/plain": [
       "<AxesSubplot:>"
      ]
     },
     "execution_count": 7,
     "metadata": {},
     "output_type": "execute_result"
    },
    {
     "data": {
      "image/png": "[encoded data removed]",
      "text/plain": [
       "<Figure size 432x288 with 1 Axes>"
      ]
     },
     "metadata": {
      "needs_background": "light"
     },
     "output_type": "display_data"
    }
   ],
   "source": [
    "dyna_r2_dev.gold_label.value_counts().plot.bar()"
   ]
  },
  {
   "cell_type": "markdown",
   "metadata": {},
   "source": [
    "## RNNClassifier wrapper\n",
    "\n",
    "This section illustrates how to use `sst.experiment` with `TorchRNNClassifier`."
   ]
  },
  {
   "cell_type": "markdown",
   "metadata": {},
   "source": [
    "To featurize examples for an RNN, we can just get the words in order, letting the model take care of mapping them into an embedding space."
   ]
  },
  {
   "cell_type": "code",
   "execution_count": 8,
   "metadata": {},
   "outputs": [],
   "source": [
    "def rnn_phi(text):\n",
    "    return text.split()"
   ]
  },
  {
   "cell_type": "markdown",
   "metadata": {},
   "source": [
    "The model wrapper gets the vocabulary using `sst.get_vocab`. If you want to use pretrained word representations in here, then you can have `fit_rnn_classifier` build that space too; see [this notebook section for details](sst_03_neural_networks.ipynb#Pretrained-embeddings). See also [torch_model_base.py](torch_model_base.py) for details on the many optimization parameters that `TorchRNNClassifier` accepts."
   ]
  },
  {
   "cell_type": "code",
   "execution_count": 9,
   "metadata": {},
   "outputs": [],
   "source": [
    "# def fit_rnn_classifier(X, y):\n",
    "#     sst_glove_vocab = utils.get_vocab(X, mincount=2)\n",
    "#     mod = TorchRNNClassifier(\n",
    "#         sst_glove_vocab,\n",
    "#         early_stopping=True)\n",
    "#     mod.fit(X, y)\n",
    "#     return mod"
   ]
  },
  {
   "cell_type": "code",
   "execution_count": 10,
   "metadata": {},
   "outputs": [],
   "source": [
    "# rnn_experiment = sst.experiment(\n",
    "#     dyna_r2_train,\n",
    "#     rnn_phi,\n",
    "#     fit_rnn_classifier,\n",
    "#     vectorize=False,\n",
    "#     assess_dataframes=DEV_DATAFRAMES)\n"
   ]
  },
  {
   "cell_type": "markdown",
   "metadata": {},
   "source": [
    "### Train and Save the Models"
   ]
  },
  {
   "cell_type": "code",
   "execution_count": 11,
   "metadata": {},
   "outputs": [
    {
     "name": "stdout",
     "output_type": "stream",
     "text": [
      "Beginning experiment...                                                                                                                                                                                                                                                                                                                                                                                                                                                                                                                                                                                                                                                                                                                                                                                                                                                                                                                                                                                                                                         \r"
     ]
    },
    {
     "name": "stderr",
     "output_type": "stream",
     "text": [
      "Epoch 1/1 (score 0, error 0): Batch 225/735 (30.61% epoch, 30.61% training). Epoch 0.7 min elapsed, 1.58 min remaining. Training 0.7 min elapsed, 1.58 min remaining.                                                                                                                                                                                                                                                                                                                                                                                                                                                                                                                                                                                                                                                                                                                                                                                                                                                                                                                                                                                                                                           \r"
     ]
    }
   ],
   "source": [
    "from sentiment_models import build_untrained_classifier_models\n",
    "\n",
    "print('Building models...', ' ' * 1000, end='\\r')\n",
    "(sentiment_classifier_lstm_base,\n",
    "    sentiment_classifier_roberta_base,\n",
    "    sentiment_classifier_dynasent_base,\n",
    "    sentiment_classifier_lstm_aan,\n",
    "    sentiment_classifier_roberta_aan,\n",
    "    sentiment_classifier_dynasent_aan) = build_untrained_classifier_models(TRAIN_DATAFRAMES)\n",
    "\n",
    "def phi(text):\n",
    "    return text\n",
    "\n",
    "def train_classifier(X, y):\n",
    "    bestmod = sentiment_classifier_dynasent_base\n",
    "    bestmod.fit(X, y)\n",
    "    return bestmod\n",
    "\n",
    "print('Beginning experiment...', ' ' * 1000, end='\\r')\n",
    "experiment = sst.experiment(\n",
    "    TRAIN_DATAFRAMES,\n",
    "    phi,\n",
    "    train_classifier,\n",
    "    assess_dataframes=DEV_DATAFRAMES,\n",
    "    vectorize=False,\n",
    "    verbose=True,\n",
    "    random_state=42)\n",
    "\n",
    "# del transformer_classifier_xval # Free memory, for continually test without restarting the kernel"
   ]
  },
  {
   "cell_type": "code",
   "execution_count": null,
   "metadata": {},
   "outputs": [
    {
     "data": {
      "image/png": "[encoded data removed]",
      "text/plain": [
       "<Figure size 720x720 with 1 Axes>"
      ]
     },
     "metadata": {
      "needs_background": "light"
     },
     "output_type": "display_data"
    }
   ],
   "source": [
    "# Plot validation scores computed during training on held-out portions of the train set\n",
    "if 'IS_GRADESCOPE_ENV' not in os.environ:\n",
    "    def plot_scores():\n",
    "        from matplotlib import pyplot as plt\n",
    "        # TODO graph .validation_scores\n",
    "        plt.rcParams[\"figure.figsize\"] = 10, 10\n",
    "        scores = experiment['model'].validation_scores\n",
    "        epochs = list(range(1, len(scores) + 1))\n",
    "        plt.plot(epochs, scores)\n",
    "        plt.ylabel('Mean of Macro F1 Scores (Training)')\n",
    "        plt.xlabel('Epoch')\n",
    "        plt.title('Validation Scores (Training)')\n",
    "        plt.grid()\n",
    "        plt.xticks(epochs)\n",
    "\n",
    "        # Data labels\n",
    "        rounded_scores = [round(score, 3) for score in scores]\n",
    "        for xy in zip(epochs, rounded_scores):\n",
    "            plt.annotate('(%s, %s)' % xy, xy=xy, textcoords='data')\n",
    "\n",
    "    plot_scores()\n",
    "    experiment\n"
   ]
  },
  {
   "cell_type": "markdown",
   "metadata": {},
   "source": [
    "## Bakeoff [1 point]\n",
    "\n",
    "As we said above, the bakeoff evaluation data is the official SST test-set release and a new test set derived from the same sources and labeling methods as for `bakeoff_dev`.\n",
    "\n",
    "For this bakeoff, you'll evaluate your original system from the above homework problem on these test sets. Our metric will be the mean of the macro-F1 values, which weights both datasets equally despite their differing sizes.\n",
    "\n",
    "The central requirement for your system is that you have define a `predict_one` method for it that maps a text (str) directly to a label prediction – one of 'positive', 'negative', 'neutral'. If you used `sst.experiment` with `vectorize=True`, then the following function (for `softmax_experiment`) will be easy to adapt – you probably just need to change the variable `softmax_experiment` to the variable for your experiment output."
   ]
  },
  {
   "cell_type": "code",
   "execution_count": null,
   "metadata": {},
   "outputs": [],
   "source": [
    "def predict_one_softmax(text):\n",
    "    # Singleton list of feature dicts:\n",
    "    feats = [softmax_experiment['phi'](text)]\n",
    "    # Vectorize to get a feature matrix:\n",
    "    X = softmax_experiment['train_dataset']['vectorizer'].transform(feats)\n",
    "    # Standard sklearn `predict` step:\n",
    "    preds = softmax_experiment['model'].predict(X)\n",
    "    # Be sure to return the only member of the predictions,\n",
    "    # rather than the singleton list:\n",
    "    return preds[0]"
   ]
  },
  {
   "cell_type": "markdown",
   "metadata": {},
   "source": [
    "If you used an RNN like the one we demoed above, then featurization is a bit more straightforward:"
   ]
  },
  {
   "cell_type": "code",
   "execution_count": null,
   "metadata": {},
   "outputs": [],
   "source": [
    "def predict_one_rnn(text):\n",
    "    # List of tokenized examples:\n",
    "    X = [rnn_experiment['phi'](text)]\n",
    "    # Standard `predict` step on a list of lists of str:\n",
    "    # TODO be sure to change the model to eval mode before predicting\n",
    "    preds = rnn_experiment['model'].predict(X)\n",
    "    # Be sure to return the only member of the predictions,\n",
    "    # rather than the singleton list:\n",
    "    return preds[0]"
   ]
  },
  {
   "cell_type": "markdown",
   "metadata": {},
   "source": [
    "The following function is used to create the bakeoff submission file. Its arguments are your `predict_one` function and an output filename (str)."
   ]
  },
  {
   "cell_type": "code",
   "execution_count": null,
   "metadata": {},
   "outputs": [],
   "source": [
    "def create_bakeoff_submission(\n",
    "        predict_one_func,\n",
    "        output_filename='cs224u-sentiment-bakeoff-entry.csv'):\n",
    "    import pandas as pd\n",
    "\n",
    "    bakeoff_test = sst.bakeoff_test_reader(SST_HOME)\n",
    "    sst_test = sst.test_reader(SST_HOME)\n",
    "    bakeoff_test['dataset'] = 'bakeoff'\n",
    "    sst_test['dataset'] = 'sst3'\n",
    "    df = pd.concat((bakeoff_test, sst_test))\n",
    "\n",
    "    df['prediction'] = df['sentence'].apply(predict_one_func)\n",
    "\n",
    "    df.to_csv(output_filename, index=None)"
   ]
  },
  {
   "cell_type": "markdown",
   "metadata": {},
   "source": [
    "~~Thus, for example, the following will create a bake-off entry based on `predict_one_softmax`:~~\n",
    "\n",
    "Create a bake-off entry based on our custom model:"
   ]
  },
  {
   "cell_type": "code",
   "execution_count": null,
   "metadata": {},
   "outputs": [],
   "source": [
    "# Create bakeoff submission, takes 2-3 minutes on a GPU.\n",
    "if 'IS_GRADESCOPE_ENV' not in os.environ:\n",
    "    def predict_one_original(text):\n",
    "        # List of tokenized examples:\n",
    "        X = [transformer_classifier_xval['phi'](text)]\n",
    "        # Change to eval mode for prediction, though this seems to have no effect\n",
    "        transformer_classifier_xval['model'].model.eval()\n",
    "        # Standard `predict` step on a list of lists of str:\n",
    "        preds = transformer_classifier_xval['model'].predict(X)\n",
    "        # Be sure to return the only member of the predictions,\n",
    "        # rather than the singleton list:\n",
    "        return preds[0]\n",
    "\n",
    "    create_bakeoff_submission(predict_one_original)"
   ]
  },
  {
   "cell_type": "markdown",
   "metadata": {},
   "source": [
    "This creates a file `cs224u-sentiment-bakeoff-entry.csv` in the current directory. That file should be uploaded as-is. Please do not change its name.\n",
    "\n",
    "Only one upload per team is permitted, and you should do no tuning of your system based on what you see in our bakeoff prediction file – you should not study that file in anyway, beyond perhaps checking that it contains what you expected it to contain. The upload function will do some additional checking to ensure that your file is well-formed.\n",
    "\n",
    "People who enter will receive the additional homework point, and people whose systems achieve the top score will receive an additional 0.5 points. We will test the top-performing systems ourselves, and only systems for which we can reproduce the reported results will win the extra 0.5 points.\n",
    "\n",
    "Late entries will be accepted, but they cannot earn the extra 0.5 points."
   ]
  },
  {
   "cell_type": "markdown",
   "metadata": {},
   "source": [
    "## Submission Instruction\n",
    "\n",
    "Review and follow the [Homework and bake-off code: Formatting guide](hw_formatting_guide.ipynb).\n",
    "Please do not change the file name as described below.\n",
    "\n",
    "Submit the following files to Gradescope:\n",
    "\n",
    "- `hw_sentiment.ipynb` (this notebook)\n",
    "- `cs224u-sentiment-bakeoff-entry.csv` (bake-off output)\n"
   ]
  }
 ],
 "metadata": {
  "interpreter": {
   "hash": "bd4d19e17a8bbf0cd4a82a88ff3e307671f5de846baee4caab569fdde62d79d5"
  },
  "kernelspec": {
   "display_name": "Python 3.9.7 ('nlu')",
   "language": "python",
   "name": "python3"
  },
  "language_info": {
   "codemirror_mode": {
    "name": "ipython",
    "version": 3
   },
   "file_extension": ".py",
   "mimetype": "text/x-python",
   "name": "python",
   "nbconvert_exporter": "python",
   "pygments_lexer": "ipython3",
   "version": "3.9.7"
  },
  "widgets": {
   "state": {},
   "version": "1.1.2"
  }
 },
 "nbformat": 4,
 "nbformat_minor": 4
}
