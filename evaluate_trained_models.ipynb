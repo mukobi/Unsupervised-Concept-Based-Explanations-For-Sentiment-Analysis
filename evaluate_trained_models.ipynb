{
 "cells": [
  {
   "cell_type": "markdown",
   "metadata": {},
   "source": [
    "# Setup\n",
    "\n",
    "### Imports"
   ]
  },
  {
   "cell_type": "code",
   "execution_count": 1,
   "metadata": {},
   "outputs": [],
   "source": [
    "import time\n",
    "import os\n",
    "from dataclasses import dataclass\n",
    "import pandas as pd\n",
    "import numpy as np\n",
    "import torch\n",
    "from matplotlib import pyplot as plt\n",
    "import scipy.spatial.distance\n",
    "import transformers\n",
    "from datasets import load_dataset\n",
    "\n",
    "import lib.sst as sst\n",
    "import lib.utils as utils"
   ]
  },
  {
   "cell_type": "markdown",
   "metadata": {},
   "source": [
    "### Configuration"
   ]
  },
  {
   "cell_type": "code",
   "execution_count": 2,
   "metadata": {},
   "outputs": [],
   "source": [
    "transformers.utils.logging.set_verbosity_error()\n",
    "utils.fix_random_seeds()\n",
    "\n",
    "cpu_device = 'cpu'\n",
    "gpu_device = 'cuda' if torch.cuda.is_available() else 'cpu'\n",
    "\n",
    "params = {'text.usetex': True,\n",
    "          'text.latex.preamble': r\"\\usepackage{lmodern}\",\n",
    "          'font.size': 11,\n",
    "          'font.family': 'lmodern',\n",
    "          'figure.figsize': (10,10),\n",
    "          'figure.dpi': 100,\n",
    "          'savefig.dpi': 1000,\n",
    "          }\n",
    "plt.rcParams.update(params) "
   ]
  },
  {
   "cell_type": "markdown",
   "metadata": {},
   "source": [
    "### Load Datasets"
   ]
  },
  {
   "cell_type": "code",
   "execution_count": 3,
   "metadata": {},
   "outputs": [
    {
     "name": "stderr",
     "output_type": "stream",
     "text": [
      "Reusing dataset dynabench_dyna_sent (C:\\Users\\Gabe\\.cache\\huggingface\\datasets\\dynabench___dynabench_dyna_sent\\dynabench.dynasent.r1.all\\1.1.0\\ab89971d9ae1aacc59ed44d6855bf0e89167417257e2c2666f38e532148f2967)\n",
      "100%|██████████| 3/3 [00:00<00:00, 374.66it/s]\n",
      "Reusing dataset dynabench_dyna_sent (C:\\Users\\Gabe\\.cache\\huggingface\\datasets\\dynabench___dynabench_dyna_sent\\dynabench.dynasent.r2.all\\1.1.0\\ab89971d9ae1aacc59ed44d6855bf0e89167417257e2c2666f38e532148f2967)\n",
      "100%|██████████| 3/3 [00:00<00:00, 499.56it/s]"
     ]
    },
    {
     "name": "stdout",
     "output_type": "stream",
     "text": [
      "dyna_r1_dev.shape: (3600, 12)\n",
      "dyna_r2_dev.shape: (720, 12)\n",
      "Dev dataset length:  4320\n"
     ]
    },
    {
     "name": "stderr",
     "output_type": "stream",
     "text": [
      "\n"
     ]
    }
   ],
   "source": [
    "dyna_r1 = load_dataset(\"dynabench/dynasent\", \"dynabench.dynasent.r1.all\")\n",
    "dyna_r1_dev = dyna_r1['validation'].to_pandas()\n",
    "# dyna_r1_test = dyna_r1['test'].to_pandas()\n",
    "dyna_r2 = load_dataset(\"dynabench/dynasent\", \"dynabench.dynasent.r2.all\")\n",
    "dyna_r2_train = dyna_r2['train'].to_pandas()\n",
    "dyna_r2_dev = dyna_r2['validation'].to_pandas()\n",
    "# dyna_r2_test = dyna_r2['test'].to_pandas()\n",
    "print(f'dyna_r1_dev.shape: {dyna_r1_dev.shape}')\n",
    "print(f'dyna_r2_dev.shape: {dyna_r2_dev.shape}')\n",
    "\n",
    "DEV_DATAFRAMES = [dyna_r1_dev, dyna_r2_dev]\n",
    "# TEST_DATAFRAMES = [dyna_r1_test, dyna_r2_test]\n",
    "\n",
    "print(f'Dev dataset length:  {sum([len(df) for df in DEV_DATAFRAMES])}')\n",
    "# print(f'Test dataset length: {sum([len(df) for df in TEST_DATAFRAMES])}')"
   ]
  },
  {
   "cell_type": "markdown",
   "metadata": {},
   "source": [
    "### Load Saved Experiments"
   ]
  },
  {
   "cell_type": "code",
   "execution_count": 4,
   "metadata": {},
   "outputs": [
    {
     "name": "stdout",
     "output_type": "stream",
     "text": [
      "Loaded experiment for model RoBERTa-Base (Baseline)\n",
      "Loaded experiment for model RoBERTa-Base (AAN)\n",
      "Loaded experiment for model DynaSent-M1 (Baseline)\n",
      "Loaded experiment for model DynaSent-M1 (AAN)\n"
     ]
    }
   ],
   "source": [
    "# TODO warn if not found\n",
    "experiment_file_names = [\n",
    "    'experiment_RoBERTa-Base (Baseline).pt',\n",
    "    'experiment_RoBERTa-Base (AAN).pt',\n",
    "    'experiment_DynaSent-M1 (Baseline).pt',\n",
    "    'experiment_DynaSent-M1 (AAN).pt',\n",
    "]\n",
    "\n",
    "colors = ['orangered', 'orangered', 'dodgerblue', 'dodgerblue']\n",
    "linestyles = [(0, (5, 1)), 'solid'] * 2\n",
    "hatches = ['//', None] * 2\n",
    "    \n",
    "experiments = []\n",
    "for file_name, color, linestyle, hatch in zip(experiment_file_names, colors, linestyles, hatches):\n",
    "    experiment = torch.load(os.path.join('models', file_name))\n",
    "    # Force CPU to not run out of GPU memory with all models loaded\n",
    "    experiment['model'].device = cpu_device\n",
    "    experiment['model'].model.to(cpu_device)\n",
    "    experiment['model'].model.eval()\n",
    "    experiment['graph_color'] = color\n",
    "    experiment['graph_linestyle'] = linestyle\n",
    "    experiment['graph_hatch'] = hatch\n",
    "    experiments.append(experiment)\n",
    "    print(f'Loaded experiment for model {experiment[\"model\"]}')"
   ]
  },
  {
   "cell_type": "markdown",
   "metadata": {},
   "source": [
    "# 1. Quantitative Performance Evaluation\n",
    "\n",
    "### Training Metrics"
   ]
  },
  {
   "cell_type": "code",
   "execution_count": 5,
   "metadata": {},
   "outputs": [],
   "source": [
    "# Plot validation scores computed during training on held-out portions of the train set\n",
    "for experiment, color, linestyle in zip(experiments, colors, linestyles):\n",
    "    scores = experiment['model'].validation_scores\n",
    "    epochs = list(range(1, len(scores) + 1))\n",
    "    plt.plot(epochs, scores, label=f'{experiment[\"model\"]}', color=color, linestyle=linestyle)\n",
    "    # Data labels\n",
    "    rounded_scores = [round(score, 3) for score in scores]\n",
    "    for xy in zip(epochs, rounded_scores):\n",
    "        plt.annotate('(%s)' % xy[1], xy=xy, textcoords='data')\n",
    "\n",
    "plt.ylabel('Mean of Macro F1 Scores (Training)')\n",
    "plt.xlabel('Epoch')\n",
    "plt.title('Training Scores')\n",
    "plt.grid()\n",
    "plt.xticks(epochs)\n",
    "plt.legend()\n",
    "\n",
    "plt.savefig(os.path.join('plots', 'Training Scores.png'))\n",
    "\n",
    "plt.show()\n"
   ]
  },
  {
   "cell_type": "markdown",
   "metadata": {},
   "source": [
    "### Dev Set Evaluation"
   ]
  },
  {
   "cell_type": "code",
   "execution_count": 6,
   "metadata": {},
   "outputs": [],
   "source": [
    "def evaluate_dataset(assess_df, title, score_func=utils.safe_macro_f1):\n",
    "    # Build the dataset for assessment\n",
    "    assess = sst.build_dataset(\n",
    "        assess_df,\n",
    "        experiments[0]['phi'],\n",
    "        vectorize=False)\n",
    "\n",
    "    # Run the model and assess the predictions\n",
    "    scores = []\n",
    "    all_preds = []\n",
    "    for experiment in experiments:\n",
    "        model = experiment['model']\n",
    "        print(f'Evaluating {model}' , end =': ')\n",
    "        \n",
    "        # Move to GPU for faster processing\n",
    "        model.device = gpu_device\n",
    "        model.model.to(gpu_device)\n",
    "        preds = model.predict(assess['X'])\n",
    "        model.model.to(cpu_device)\n",
    "        model.device = cpu_device\n",
    "        \n",
    "        score = score_func(assess['y'], preds)\n",
    "        scores.append(score)\n",
    "        all_preds.append(preds)\n",
    "        print(score)\n",
    "\n",
    "    for experiment, score in zip(experiments, scores):\n",
    "        plt.bar(str(experiment['model']), score, color=experiment['graph_color'], hatch=experiment['graph_hatch'])\n",
    "    plt.ylabel('Mean of Macro F1 Scores (Evaluation)')\n",
    "    plt.xlabel('Model')\n",
    "    plt.title(title)\n",
    "\n",
    "    plt.savefig(os.path.join('plots', f'{title}.png'))\n",
    "\n",
    "    return scores, all_preds, assess['y']\n",
    "    "
   ]
  },
  {
   "cell_type": "code",
   "execution_count": 7,
   "metadata": {},
   "outputs": [
    {
     "name": "stdout",
     "output_type": "stream",
     "text": [
      "Evaluating RoBERTa-Base (Baseline): 0.6764826952914728\n",
      "Evaluating RoBERTa-Base (AAN): 0.6852750178331574\n",
      "Evaluating DynaSent-M1 (Baseline): 0.7564370208016715\n",
      "Evaluating DynaSent-M1 (AAN): 0.7493122173239238\n"
     ]
    },
    {
     "data": {
      "image/png": "[encoded data removed]",
      "text/plain": [
       "<Figure size 1000x1000 with 1 Axes>"
      ]
     },
     "metadata": {
      "needs_background": "light"
     },
     "output_type": "display_data"
    }
   ],
   "source": [
    "# Dynasent Round 1 Dev\n",
    "dyna_r1_dev_scores, dyna_r1_dev_preds, dyna_r1_dev_gold = evaluate_dataset(dyna_r1_dev, 'Evaluation Scores (R1 Dev)')"
   ]
  },
  {
   "cell_type": "code",
   "execution_count": 8,
   "metadata": {},
   "outputs": [
    {
     "name": "stdout",
     "output_type": "stream",
     "text": [
      "Evaluating RoBERTa-Base (Baseline): 0.680659662958952\n",
      "Evaluating RoBERTa-Base (AAN): 0.678933153299277\n",
      "Evaluating DynaSent-M1 (Baseline): 0.6637254765274089\n",
      "Evaluating DynaSent-M1 (AAN): 0.6583427463385975\n"
     ]
    },
    {
     "data": {
      "image/png": "[encoded data removed]",
      "text/plain": [
       "<Figure size 1000x1000 with 1 Axes>"
      ]
     },
     "metadata": {
      "needs_background": "light"
     },
     "output_type": "display_data"
    }
   ],
   "source": [
    "# Dynasent Round 2 Dev\n",
    "dyna_r2_dev_scores, dyna_r2_dev_preds, dyna_r2_dev_gold = evaluate_dataset(dyna_r2_dev, 'Evaluation Scores (R2 Dev)')"
   ]
  },
  {
   "cell_type": "markdown",
   "metadata": {},
   "source": [
    "### TODO Evaluate on test sets once at the end"
   ]
  },
  {
   "cell_type": "code",
   "execution_count": 9,
   "metadata": {},
   "outputs": [],
   "source": [
    "# TODO Evaluate on test sets once at the end"
   ]
  },
  {
   "cell_type": "markdown",
   "metadata": {},
   "source": [
    "### McNemar's Test of Statistical Significance\n",
    "\n",
    "We can use [McNemar's Test](https://en.wikipedia.org/wiki/McNemar%27s_test) to evaluate whether the predictions of two different models on the same data set are statistically significant. If they aren't statistically significant (e.g. p > 0.01), then we can conclude that the models don't perform differently on that dataset."
   ]
  },
  {
   "cell_type": "code",
   "execution_count": 10,
   "metadata": {},
   "outputs": [
    {
     "name": "stdout",
     "output_type": "stream",
     "text": [
      "p=0.535 (NOT significant) for test Dyna R1 Dev: RoBERTa Baseline vs RoBERTa AAN\n",
      "p=0.234 (NOT significant) for test Dyna R1 Dev: DynaSent-M1 Baseline vs DynaSent-M1 AAN\n",
      "p=9.15e-22 (SIGNIFICANT) for test Dyna R1 Dev: RoBERTa Baseline vs DynaSent-M1 Baseline\n",
      "p=2.36e-16 (SIGNIFICANT) for test Dyna R1 Dev: RoBERTa AAN vs DynaSent-M1 AAN\n",
      "p=0.928 (NOT significant) for test Dyna R2 Dev: RoBERTa Baseline vs RoBERTa AAN\n",
      "p=0.749 (NOT significant) for test Dyna R2 Dev: DynaSent-M1 Baseline vs DynaSent-M1 AAN\n",
      "p=0.468 (NOT significant) for test Dyna R2 Dev: RoBERTa Baseline vs DynaSent-M1 Baseline\n",
      "p=0.288 (NOT significant) for test Dyna R2 Dev: RoBERTa AAN vs DynaSent-M1 AAN\n"
     ]
    }
   ],
   "source": [
    "# Use McNemar's Test to evaluate whether classifier outputs are significantly different\n",
    "def calculate_significance(test_name, gold_labels, model_1_preds, model_2_preds):\n",
    "    p_threshold = 0.01\n",
    "    _, significance = utils.mcnemar(gold_labels, model_1_preds, model_2_preds)\n",
    "    is_significant_text = 'NOT significant' if significance > p_threshold else 'SIGNIFICANT'\n",
    "    print(f'p={significance:.3g} ({is_significant_text}) for test {test_name}')\n",
    "    return significance\n",
    "\n",
    "significance_tests = [\n",
    "    ('Dyna R1 Dev: RoBERTa Baseline vs RoBERTa AAN', dyna_r1_dev_gold, dyna_r1_dev_preds[0], dyna_r1_dev_preds[1]),\n",
    "    ('Dyna R1 Dev: DynaSent-M1 Baseline vs DynaSent-M1 AAN', dyna_r1_dev_gold, dyna_r1_dev_preds[2], dyna_r1_dev_preds[3]),\n",
    "    ('Dyna R1 Dev: RoBERTa Baseline vs DynaSent-M1 Baseline', dyna_r1_dev_gold, dyna_r1_dev_preds[0], dyna_r1_dev_preds[2]),\n",
    "    ('Dyna R1 Dev: RoBERTa AAN vs DynaSent-M1 AAN', dyna_r1_dev_gold, dyna_r1_dev_preds[1], dyna_r1_dev_preds[3]),\n",
    "    # TODO add line break\n",
    "    ('Dyna R2 Dev: RoBERTa Baseline vs RoBERTa AAN', dyna_r2_dev_gold, dyna_r2_dev_preds[0], dyna_r2_dev_preds[1]),\n",
    "    ('Dyna R2 Dev: DynaSent-M1 Baseline vs DynaSent-M1 AAN', dyna_r2_dev_gold, dyna_r2_dev_preds[2], dyna_r2_dev_preds[3]),\n",
    "    ('Dyna R2 Dev: RoBERTa Baseline vs DynaSent-M1 Baseline', dyna_r2_dev_gold, dyna_r2_dev_preds[0], dyna_r2_dev_preds[2]),\n",
    "    ('Dyna R2 Dev: RoBERTa AAN vs DynaSent-M1 AAN', dyna_r2_dev_gold, dyna_r2_dev_preds[1], dyna_r2_dev_preds[3]),\n",
    "    # TODO Add Dyna Test set significance\n",
    "]\n",
    "\n",
    "for test_name, gold_labels, model_1_preds, model_2_preds in significance_tests:\n",
    "    calculate_significance(test_name, gold_labels, model_1_preds, model_2_preds)"
   ]
  },
  {
   "cell_type": "markdown",
   "metadata": {},
   "source": [
    "# Concept-Based Explanations\n",
    "\n",
    "Our AAN-based models are able to produce concept-based explanations of their classification decisions.\n",
    "\n",
    "We choose to run all of our explanations on the DynaSent Model 1 AAN model, but these could also be evaluated on the RoBERTA-Base AAN model or other AAN models.\n",
    "\n",
    "### Precomputation"
   ]
  },
  {
   "cell_type": "code",
   "execution_count": 11,
   "metadata": {},
   "outputs": [],
   "source": [
    "# Use the DynaSent Model 1 AAN\n",
    "concept_explanation_model = [experiment['model'] for experiment in experiments if str(experiment['model']) == 'DynaSent-M1 (AAN)'][0]\n",
    "_ = concept_explanation_model.model.to(gpu_device)"
   ]
  },
  {
   "cell_type": "code",
   "execution_count": 12,
   "metadata": {},
   "outputs": [
    {
     "name": "stdout",
     "output_type": "stream",
     "text": [
      "Loaded 1000 keywords. Examples:\n",
      "['contributed' 'shingles' 'downsize' 'lapses' 'strand' 'whimpering']\n"
     ]
    }
   ],
   "source": [
    "# Choose a dictionary of keywords to use as inputs\n",
    "\n",
    "# Import a small (25k) English dictionary\n",
    "# https://github.com/dolph/dictionary\n",
    "with open('data/popular.txt') as word_file:\n",
    "    concept_keyword_list = np.array(word_file.read().split())\n",
    "\n",
    "# Debug choose only a random 1000\n",
    "concept_keyword_list = concept_keyword_list[np.random.choice(len(concept_keyword_list), size=1000, replace=False)]\n",
    "\n",
    "# Alternative: Use RoBERTa's tokens (50k tokens)\n",
    "# tokenizer = concept_explanation_model.roberta_tokenizer\n",
    "# concept_keyword_list: list[str] = list(tokenizer.vocab.keys())\n",
    "\n",
    "num_concept_keywords = len(concept_keyword_list)\n",
    "print(f'Loaded {num_concept_keywords} keywords. Examples:')\n",
    "print(concept_keyword_list[np.random.choice(num_concept_keywords, size=6, replace=False)])"
   ]
  },
  {
   "cell_type": "code",
   "execution_count": 13,
   "metadata": {},
   "outputs": [
    {
     "name": "stdout",
     "output_type": "stream",
     "text": [
      "Loading representations for 1000 keywords...\n",
      "Loaded representations for 1000 keywords.\n"
     ]
    }
   ],
   "source": [
    "# Precompute (or load) the abstraction-attention context representations (10x768) for each keyword.\n",
    "# We will compare these representations to find keywords associated with concepts.\n",
    "from lib.sentiment_models import NUM_CONCEPTS, HIDDEN_DIM, BATCH_SIZE\n",
    "\n",
    "FORCE_COMPUTE_REPRESENTATIONS = False\n",
    "\n",
    "keywords_representations_save_path = os.path.join('data', 'keywords_representations.npy')\n",
    "must_precompute_representations = not os.path.exists(keywords_representations_save_path) or FORCE_COMPUTE_REPRESENTATIONS\n",
    "if not must_precompute_representations:\n",
    "    print(f'Loading representations for {num_concept_keywords} keywords...')\n",
    "    keywords_representations = np.load(keywords_representations_save_path)\n",
    "    print(f'Loaded representations for {len(keywords_representations)} keywords.')\n",
    "\n",
    "    if len(keywords_representations) != num_concept_keywords:\n",
    "        print(f'Whoops! Loaded {len(keywords_representations)} keyword representations, but was expecting {num_concept_keywords}. Regenerating them now.')\n",
    "        must_precompute_representations = True\n",
    "\n",
    "if must_precompute_representations:\n",
    "    print(f'Precomputing representations for {num_concept_keywords} keywords...')\n",
    "\n",
    "    keywords_representations = np.zeros((num_concept_keywords, NUM_CONCEPTS, HIDDEN_DIM))\n",
    "\n",
    "    num_batches = (num_concept_keywords / BATCH_SIZE) + 1\n",
    "\n",
    "    start_time = time.time()\n",
    "    for batch_i in range(0, num_concept_keywords, BATCH_SIZE):\n",
    "        # Forward the input through the model so it stores the attention contexts\n",
    "        batch_inputs = concept_keyword_list[batch_i:batch_i+BATCH_SIZE].tolist()\n",
    "        concept_explanation_model.predict(batch_inputs)\n",
    "\n",
    "        fraction_complete = (batch_i + 1) / num_concept_keywords\n",
    "        minutes_since_start = (time.time() - start_time) / 60\n",
    "        minutes_expected = minutes_since_start / fraction_complete * (1 - fraction_complete)\n",
    "        message = f'Keyword {batch_i + 1}/{num_concept_keywords} ' \\\n",
    "            f'({round(fraction_complete * 100, 2)}%). ' \\\n",
    "            f'{round(minutes_since_start, 2)} min elapsed, {round(minutes_expected, 2)} min remaining. '\n",
    "        utils.progress_bar(message)\n",
    "\n",
    "        # Capture the saved attention contexts\n",
    "        ctx_abs = concept_explanation_model.pooling_module.ctx_abs\n",
    "        keywords_representations[\n",
    "            batch_i:min(batch_i + BATCH_SIZE, num_concept_keywords), :, :] = ctx_abs\n",
    "\n",
    "    np.save(keywords_representations_save_path, keywords_representations)"
   ]
  },
  {
   "cell_type": "code",
   "execution_count": 16,
   "metadata": {},
   "outputs": [
    {
     "ename": "TypeError",
     "evalue": "cross_entropy_loss(): argument 'input' (position 1) must be Tensor, not str",
     "output_type": "error",
     "traceback": [
      "\u001b[1;31m---------------------------------------------------------------------------\u001b[0m",
      "\u001b[1;31mTypeError\u001b[0m                                 Traceback (most recent call last)",
      "\u001b[1;32m~\\AppData\\Local\\Temp/ipykernel_28380/2315832554.py\u001b[0m in \u001b[0;36m<module>\u001b[1;34m\u001b[0m\n\u001b[0;32m     68\u001b[0m \u001b[1;33m\u001b[0m\u001b[0m\n\u001b[0;32m     69\u001b[0m \u001b[1;31m# explanation = get_concept_explanation('They said it would be good, and they were wrong.')\u001b[0m\u001b[1;33m\u001b[0m\u001b[1;33m\u001b[0m\u001b[0m\n\u001b[1;32m---> 70\u001b[1;33m \u001b[0mexplanation\u001b[0m \u001b[1;33m=\u001b[0m \u001b[0mget_concept_explanation\u001b[0m\u001b[1;33m(\u001b[0m\u001b[1;34m'Why did the food taste so bad?'\u001b[0m\u001b[1;33m)\u001b[0m\u001b[1;33m\u001b[0m\u001b[1;33m\u001b[0m\u001b[0m\n\u001b[0m\u001b[0;32m     71\u001b[0m \u001b[1;33m\u001b[0m\u001b[0m\n\u001b[0;32m     72\u001b[0m \u001b[0mprint\u001b[0m\u001b[1;33m(\u001b[0m\u001b[0mexplanation\u001b[0m\u001b[1;33m)\u001b[0m\u001b[1;33m\u001b[0m\u001b[1;33m\u001b[0m\u001b[0m\n",
      "\u001b[1;32m~\\AppData\\Local\\Temp/ipykernel_28380/2315832554.py\u001b[0m in \u001b[0;36mget_concept_explanation\u001b[1;34m(sentence, num_keywords_per_concept)\u001b[0m\n\u001b[0;32m     38\u001b[0m     \u001b[0mconcept_explanation_model\u001b[0m\u001b[1;33m.\u001b[0m\u001b[0mmodel\u001b[0m\u001b[1;33m.\u001b[0m\u001b[0mto\u001b[0m\u001b[1;33m(\u001b[0m\u001b[0mgpu_device\u001b[0m\u001b[1;33m)\u001b[0m\u001b[1;33m\u001b[0m\u001b[1;33m\u001b[0m\u001b[0m\n\u001b[0;32m     39\u001b[0m     \u001b[0mconcept_explanation_model\u001b[0m\u001b[1;33m.\u001b[0m\u001b[0mloss\u001b[0m\u001b[1;33m.\u001b[0m\u001b[0mto\u001b[0m\u001b[1;33m(\u001b[0m\u001b[0mgpu_device\u001b[0m\u001b[1;33m)\u001b[0m\u001b[1;33m\u001b[0m\u001b[1;33m\u001b[0m\u001b[0m\n\u001b[1;32m---> 40\u001b[1;33m     \u001b[0mconcept_explanation_model\u001b[0m\u001b[1;33m.\u001b[0m\u001b[0mloss\u001b[0m\u001b[1;33m(\u001b[0m\u001b[0mprediction\u001b[0m\u001b[1;33m,\u001b[0m \u001b[0mprediction\u001b[0m\u001b[1;33m)\u001b[0m\u001b[1;33m\u001b[0m\u001b[1;33m\u001b[0m\u001b[0m\n\u001b[0m\u001b[0;32m     41\u001b[0m \u001b[1;33m\u001b[0m\u001b[0m\n\u001b[0;32m     42\u001b[0m     \u001b[1;31m# Capture the saved attention weights\u001b[0m\u001b[1;33m\u001b[0m\u001b[1;33m\u001b[0m\u001b[0m\n",
      "\u001b[1;32mc:\\Users\\Gabe\\anaconda3\\envs\\nlu\\lib\\site-packages\\torch\\nn\\modules\\module.py\u001b[0m in \u001b[0;36m_call_impl\u001b[1;34m(self, *input, **kwargs)\u001b[0m\n\u001b[0;32m   1100\u001b[0m         if not (self._backward_hooks or self._forward_hooks or self._forward_pre_hooks or _global_backward_hooks\n\u001b[0;32m   1101\u001b[0m                 or _global_forward_hooks or _global_forward_pre_hooks):\n\u001b[1;32m-> 1102\u001b[1;33m             \u001b[1;32mreturn\u001b[0m \u001b[0mforward_call\u001b[0m\u001b[1;33m(\u001b[0m\u001b[1;33m*\u001b[0m\u001b[0minput\u001b[0m\u001b[1;33m,\u001b[0m \u001b[1;33m**\u001b[0m\u001b[0mkwargs\u001b[0m\u001b[1;33m)\u001b[0m\u001b[1;33m\u001b[0m\u001b[1;33m\u001b[0m\u001b[0m\n\u001b[0m\u001b[0;32m   1103\u001b[0m         \u001b[1;31m# Do not call functions when jit is used\u001b[0m\u001b[1;33m\u001b[0m\u001b[1;33m\u001b[0m\u001b[0m\n\u001b[0;32m   1104\u001b[0m         \u001b[0mfull_backward_hooks\u001b[0m\u001b[1;33m,\u001b[0m \u001b[0mnon_full_backward_hooks\u001b[0m \u001b[1;33m=\u001b[0m \u001b[1;33m[\u001b[0m\u001b[1;33m]\u001b[0m\u001b[1;33m,\u001b[0m \u001b[1;33m[\u001b[0m\u001b[1;33m]\u001b[0m\u001b[1;33m\u001b[0m\u001b[1;33m\u001b[0m\u001b[0m\n",
      "\u001b[1;32mc:\\Users\\Gabe\\Documents\\GitHub\\School\\Unsupervised-Concept-Based-Explanations-For-Sentiment-Analysis\\lib\\sentiment_models.py\u001b[0m in \u001b[0;36mforward\u001b[1;34m(self, batch_preds, y_batch)\u001b[0m\n\u001b[0;32m     86\u001b[0m         \u001b[0mdiversity_penalty\u001b[0m \u001b[1;33m=\u001b[0m \u001b[0mtorch\u001b[0m\u001b[1;33m.\u001b[0m\u001b[0msqrt\u001b[0m\u001b[1;33m(\u001b[0m\u001b[0mtorch\u001b[0m\u001b[1;33m.\u001b[0m\u001b[0mmean\u001b[0m\u001b[1;33m(\u001b[0m\u001b[0mcpt_cross\u001b[0m\u001b[1;33m*\u001b[0m\u001b[0mcpt_cross\u001b[0m\u001b[1;33m)\u001b[0m\u001b[1;33m)\u001b[0m\u001b[1;33m\u001b[0m\u001b[1;33m\u001b[0m\u001b[0m\n\u001b[0;32m     87\u001b[0m \u001b[1;33m\u001b[0m\u001b[0m\n\u001b[1;32m---> 88\u001b[1;33m         \u001b[1;32mreturn\u001b[0m \u001b[0mself\u001b[0m\u001b[1;33m.\u001b[0m\u001b[0mcross_entropy\u001b[0m\u001b[1;33m(\u001b[0m\u001b[0mbatch_preds\u001b[0m\u001b[1;33m,\u001b[0m \u001b[0my_batch\u001b[0m\u001b[1;33m)\u001b[0m \u001b[1;33m+\u001b[0m \u001b[0mdiversity_penalty\u001b[0m\u001b[1;33m\u001b[0m\u001b[1;33m\u001b[0m\u001b[0m\n\u001b[0m\u001b[0;32m     89\u001b[0m \u001b[1;33m\u001b[0m\u001b[0m\n\u001b[0;32m     90\u001b[0m \u001b[1;33m\u001b[0m\u001b[0m\n",
      "\u001b[1;32mc:\\Users\\Gabe\\anaconda3\\envs\\nlu\\lib\\site-packages\\torch\\nn\\modules\\module.py\u001b[0m in \u001b[0;36m_call_impl\u001b[1;34m(self, *input, **kwargs)\u001b[0m\n\u001b[0;32m   1100\u001b[0m         if not (self._backward_hooks or self._forward_hooks or self._forward_pre_hooks or _global_backward_hooks\n\u001b[0;32m   1101\u001b[0m                 or _global_forward_hooks or _global_forward_pre_hooks):\n\u001b[1;32m-> 1102\u001b[1;33m             \u001b[1;32mreturn\u001b[0m \u001b[0mforward_call\u001b[0m\u001b[1;33m(\u001b[0m\u001b[1;33m*\u001b[0m\u001b[0minput\u001b[0m\u001b[1;33m,\u001b[0m \u001b[1;33m**\u001b[0m\u001b[0mkwargs\u001b[0m\u001b[1;33m)\u001b[0m\u001b[1;33m\u001b[0m\u001b[1;33m\u001b[0m\u001b[0m\n\u001b[0m\u001b[0;32m   1103\u001b[0m         \u001b[1;31m# Do not call functions when jit is used\u001b[0m\u001b[1;33m\u001b[0m\u001b[1;33m\u001b[0m\u001b[0m\n\u001b[0;32m   1104\u001b[0m         \u001b[0mfull_backward_hooks\u001b[0m\u001b[1;33m,\u001b[0m \u001b[0mnon_full_backward_hooks\u001b[0m \u001b[1;33m=\u001b[0m \u001b[1;33m[\u001b[0m\u001b[1;33m]\u001b[0m\u001b[1;33m,\u001b[0m \u001b[1;33m[\u001b[0m\u001b[1;33m]\u001b[0m\u001b[1;33m\u001b[0m\u001b[1;33m\u001b[0m\u001b[0m\n",
      "\u001b[1;32mc:\\Users\\Gabe\\anaconda3\\envs\\nlu\\lib\\site-packages\\torch\\nn\\modules\\loss.py\u001b[0m in \u001b[0;36mforward\u001b[1;34m(self, input, target)\u001b[0m\n\u001b[0;32m   1148\u001b[0m \u001b[1;33m\u001b[0m\u001b[0m\n\u001b[0;32m   1149\u001b[0m     \u001b[1;32mdef\u001b[0m \u001b[0mforward\u001b[0m\u001b[1;33m(\u001b[0m\u001b[0mself\u001b[0m\u001b[1;33m,\u001b[0m \u001b[0minput\u001b[0m\u001b[1;33m:\u001b[0m \u001b[0mTensor\u001b[0m\u001b[1;33m,\u001b[0m \u001b[0mtarget\u001b[0m\u001b[1;33m:\u001b[0m \u001b[0mTensor\u001b[0m\u001b[1;33m)\u001b[0m \u001b[1;33m->\u001b[0m \u001b[0mTensor\u001b[0m\u001b[1;33m:\u001b[0m\u001b[1;33m\u001b[0m\u001b[1;33m\u001b[0m\u001b[0m\n\u001b[1;32m-> 1150\u001b[1;33m         return F.cross_entropy(input, target, weight=self.weight,\n\u001b[0m\u001b[0;32m   1151\u001b[0m                                \u001b[0mignore_index\u001b[0m\u001b[1;33m=\u001b[0m\u001b[0mself\u001b[0m\u001b[1;33m.\u001b[0m\u001b[0mignore_index\u001b[0m\u001b[1;33m,\u001b[0m \u001b[0mreduction\u001b[0m\u001b[1;33m=\u001b[0m\u001b[0mself\u001b[0m\u001b[1;33m.\u001b[0m\u001b[0mreduction\u001b[0m\u001b[1;33m,\u001b[0m\u001b[1;33m\u001b[0m\u001b[1;33m\u001b[0m\u001b[0m\n\u001b[0;32m   1152\u001b[0m                                label_smoothing=self.label_smoothing)\n",
      "\u001b[1;32mc:\\Users\\Gabe\\anaconda3\\envs\\nlu\\lib\\site-packages\\torch\\nn\\functional.py\u001b[0m in \u001b[0;36mcross_entropy\u001b[1;34m(input, target, weight, size_average, ignore_index, reduce, reduction, label_smoothing)\u001b[0m\n\u001b[0;32m   2844\u001b[0m     \u001b[1;32mif\u001b[0m \u001b[0msize_average\u001b[0m \u001b[1;32mis\u001b[0m \u001b[1;32mnot\u001b[0m \u001b[1;32mNone\u001b[0m \u001b[1;32mor\u001b[0m \u001b[0mreduce\u001b[0m \u001b[1;32mis\u001b[0m \u001b[1;32mnot\u001b[0m \u001b[1;32mNone\u001b[0m\u001b[1;33m:\u001b[0m\u001b[1;33m\u001b[0m\u001b[1;33m\u001b[0m\u001b[0m\n\u001b[0;32m   2845\u001b[0m         \u001b[0mreduction\u001b[0m \u001b[1;33m=\u001b[0m \u001b[0m_Reduction\u001b[0m\u001b[1;33m.\u001b[0m\u001b[0mlegacy_get_string\u001b[0m\u001b[1;33m(\u001b[0m\u001b[0msize_average\u001b[0m\u001b[1;33m,\u001b[0m \u001b[0mreduce\u001b[0m\u001b[1;33m)\u001b[0m\u001b[1;33m\u001b[0m\u001b[1;33m\u001b[0m\u001b[0m\n\u001b[1;32m-> 2846\u001b[1;33m     \u001b[1;32mreturn\u001b[0m \u001b[0mtorch\u001b[0m\u001b[1;33m.\u001b[0m\u001b[0m_C\u001b[0m\u001b[1;33m.\u001b[0m\u001b[0m_nn\u001b[0m\u001b[1;33m.\u001b[0m\u001b[0mcross_entropy_loss\u001b[0m\u001b[1;33m(\u001b[0m\u001b[0minput\u001b[0m\u001b[1;33m,\u001b[0m \u001b[0mtarget\u001b[0m\u001b[1;33m,\u001b[0m \u001b[0mweight\u001b[0m\u001b[1;33m,\u001b[0m \u001b[0m_Reduction\u001b[0m\u001b[1;33m.\u001b[0m\u001b[0mget_enum\u001b[0m\u001b[1;33m(\u001b[0m\u001b[0mreduction\u001b[0m\u001b[1;33m)\u001b[0m\u001b[1;33m,\u001b[0m \u001b[0mignore_index\u001b[0m\u001b[1;33m,\u001b[0m \u001b[0mlabel_smoothing\u001b[0m\u001b[1;33m)\u001b[0m\u001b[1;33m\u001b[0m\u001b[1;33m\u001b[0m\u001b[0m\n\u001b[0m\u001b[0;32m   2847\u001b[0m \u001b[1;33m\u001b[0m\u001b[0m\n\u001b[0;32m   2848\u001b[0m \u001b[1;33m\u001b[0m\u001b[0m\n",
      "\u001b[1;31mTypeError\u001b[0m: cross_entropy_loss(): argument 'input' (position 1) must be Tensor, not str"
     ]
    }
   ],
   "source": [
    "\n",
    "@dataclass\n",
    "class ConceptExplanation:\n",
    "    \"\"\"Represents an explanation of a single sentence and facilitates easy printing.\"\"\"\n",
    "    sentence: str # The input sentence\n",
    "    prediction: str # The sentiment prediction\n",
    "    scores: list[float] # The scores for each of the K concepts\n",
    "    keywords: list[list[str]] # The keywords for each of the K concepts\n",
    "\n",
    "    def get_explanation_string(self, sort_by_scores=True):\n",
    "        table_string = f'{\"ID\":^5}{\"Score\":^9}{\"Keywords\":<20}\\n'\n",
    "        table_string += '='*50 + '\\n'\n",
    "        # TODO implement sorting by scores\n",
    "        for id, (score, keyword_list) in enumerate(zip(self.scores, self.keywords)):\n",
    "            table_string += f'{id:^5}{score:.5f}  {\", \".join(keyword_list):<20}\\n'\n",
    "        return f'Prediction: {str.upper(self.prediction)}\\nSentence: \"{self.sentence}\"\\n{table_string}'\n",
    "\n",
    "    def __repr__(self):\n",
    "        return self.get_explanation_string()\n",
    "\n",
    "\n",
    "def get_concept_explanation(sentence, num_keywords_per_concept=6):\n",
    "    \"\"\"Gets the scores and keywords for the K=10 concepts for a given input sentence.\"\"\"\n",
    "    # Forward the input through the model\n",
    "    prediction = concept_explanation_model.predict([sentence])[0]\n",
    "\n",
    "    # TODO DEBUG will remove\n",
    "    # dataset = concept_explanation_model.build_dataset([sentence], ['negative'])\n",
    "    # dataloader = concept_explanation_model._build_dataloader(dataset)\n",
    "    # for batch_num, batch in enumerate(dataloader, start=1):\n",
    "    #     batch = [x.to(concept_explanation_model.device, non_blocking=True) for x in batch]\n",
    "\n",
    "    #     X_batch = batch[: -1]\n",
    "    #     y_batch = batch[-1]\n",
    "\n",
    "    #     batch_preds = concept_explanation_model.model(*X_batch)\n",
    "\n",
    "    #     err = concept_explanation_model.loss(batch_preds, y_batch) \n",
    "    # concept_explanation_model.model.to(gpu_device)\n",
    "    # concept_explanation_model.loss.to(gpu_device)\n",
    "    # concept_explanation_model.loss(prediction, prediction)\n",
    "\n",
    "    # Capture the saved attention weights\n",
    "    ctx_abs = concept_explanation_model.pooling_module.ctx_abs\n",
    "    attn_agg = concept_explanation_model.pooling_module.attn_agg\n",
    "\n",
    "    # Get the scores from the aggregation-attention weights\n",
    "    scores = attn_agg.cpu().squeeze().numpy().tolist()\n",
    "\n",
    "    # Compute the cosine similarity between this sentence's abs-attention context representations\n",
    "    # and the precomputed keyword representations (each are of size NUM_CONCEPTS x HIDDEN_DIM).\n",
    "    similarities = np.zeros((num_concept_keywords, NUM_CONCEPTS))\n",
    "    for keyword_i in range(num_concept_keywords):\n",
    "        for concept_i in range(NUM_CONCEPTS):\n",
    "            sentence_repr = ctx_abs[:, concept_i, :].squeeze().cpu().numpy()\n",
    "            keyword_repr = keywords_representations[keyword_i, concept_i, :]\n",
    "            similarities[keyword_i, concept_i] = scipy.spatial.distance.cosine(sentence_repr, keyword_repr)\n",
    "\n",
    "    # Choose to top n most similar keywords to represent each concept\n",
    "    keywords = [[]]*NUM_CONCEPTS\n",
    "    for concept_i in range(NUM_CONCEPTS):\n",
    "        indices = similarities[:, concept_i].argsort()[-num_keywords_per_concept:][::-1]\n",
    "        keywords[concept_i] = concept_keyword_list[indices]\n",
    "        # TODO if slow, use argpartition + argsort\n",
    "        # https://stackoverflow.com/questions/6910641/how-do-i-get-indices-of-n-maximum-values-in-a-numpy-array\n",
    "\n",
    "    # Wrap it all up in a cozy object\n",
    "    return ConceptExplanation(sentence, prediction, scores, keywords)\n",
    "\n",
    "# explanation = get_concept_explanation('They said it would be good, and they were wrong.')\n",
    "explanation = get_concept_explanation('Why did the food taste so bad?')\n",
    "\n",
    "print(explanation)"
   ]
  },
  {
   "cell_type": "code",
   "execution_count": null,
   "metadata": {},
   "outputs": [],
   "source": [
    "# TODO test this with some hand-written example sentences"
   ]
  },
  {
   "cell_type": "markdown",
   "metadata": {},
   "source": [
    "## Error analysis\n",
    "\n",
    "This section begins to build an error-analysis framework using the dicts returned by `sst.experiment`. These have the following structure:\n",
    "\n",
    "```\n",
    "'model': trained model\n",
    "'phi': the feature function used\n",
    "'train_dataset':\n",
    "   'X': feature matrix\n",
    "   'y': list of labels\n",
    "   'vectorizer': DictVectorizer,\n",
    "   'raw_examples': list of raw inputs, before featurizing   \n",
    "'assess_datasets': list of datasets, each with the same structure as the value of 'train_dataset'\n",
    "'predictions': list of lists of predictions on the assessment datasets\n",
    "'metric': `score_func.__name__`, where `score_func` is an `sst.experiment` argument\n",
    "'score': the `score_func` score on the each of the assessment dataasets\n",
    "```\n",
    "The following function just finds mistakes, and returns a `pd.DataFrame` for easy subsequent processing:"
   ]
  },
  {
   "cell_type": "code",
   "execution_count": null,
   "metadata": {},
   "outputs": [],
   "source": [
    "def find_errors(experiment):\n",
    "    \"\"\"Find mistaken predictions.\n",
    "\n",
    "    Parameters\n",
    "    ----------\n",
    "    experiment : dict\n",
    "        As returned by `sst.experiment`.\n",
    "\n",
    "    Returns\n",
    "    -------\n",
    "    pd.DataFrame\n",
    "\n",
    "    \"\"\"\n",
    "    dfs = []\n",
    "    for i, dataset in enumerate(experiment['assess_datasets']):\n",
    "        df = pd.DataFrame({\n",
    "            'raw_examples': dataset['raw_examples'],\n",
    "            'predicted': experiment['predictions'][i],\n",
    "            'gold': dataset['y']})\n",
    "        df['correct'] = df['predicted'] == df['gold']\n",
    "        df['dataset'] = i\n",
    "        dfs.append(df)\n",
    "    return pd.concat(dfs)"
   ]
  },
  {
   "cell_type": "code",
   "execution_count": null,
   "metadata": {},
   "outputs": [
    {
     "ename": "NameError",
     "evalue": "name 'rnn_experiment' is not defined",
     "output_type": "error",
     "traceback": [
      "\u001b[1;31m---------------------------------------------------------------------------\u001b[0m",
      "\u001b[1;31mNameError\u001b[0m                                 Traceback (most recent call last)",
      "\u001b[1;32m~\\AppData\\Local\\Temp/ipykernel_25536/1153253391.py\u001b[0m in \u001b[0;36m<module>\u001b[1;34m\u001b[0m\n\u001b[1;32m----> 1\u001b[1;33m \u001b[0mrnn_analysis\u001b[0m \u001b[1;33m=\u001b[0m \u001b[0mfind_errors\u001b[0m\u001b[1;33m(\u001b[0m\u001b[0mrnn_experiment\u001b[0m\u001b[1;33m)\u001b[0m\u001b[1;33m\u001b[0m\u001b[1;33m\u001b[0m\u001b[0m\n\u001b[0m",
      "\u001b[1;31mNameError\u001b[0m: name 'rnn_experiment' is not defined"
     ]
    }
   ],
   "source": [
    "rnn_analysis = find_errors(rnn_experiment)"
   ]
  },
  {
   "cell_type": "markdown",
   "metadata": {},
   "source": [
    "Here we merge the sotmax and RNN experiments into a single DataFrame:"
   ]
  },
  {
   "cell_type": "code",
   "execution_count": null,
   "metadata": {},
   "outputs": [],
   "source": [
    "analysis = softmax_analysis.merge(\n",
    "    rnn_analysis, left_on='raw_examples', right_on='raw_examples')\n",
    "\n",
    "analysis = analysis.drop('gold_y', axis=1).rename(columns={'gold_x': 'gold'})"
   ]
  },
  {
   "cell_type": "markdown",
   "metadata": {},
   "source": [
    "The following code collects a specific subset of examples; small modifications to its structure will give you different interesting subsets:"
   ]
  },
  {
   "cell_type": "code",
   "execution_count": null,
   "metadata": {},
   "outputs": [],
   "source": [
    "# Examples where the softmax model is correct, the RNN is not,\n",
    "# and the gold label is 'positive'\n",
    "\n",
    "error_group = analysis[\n",
    "    (analysis['predicted_x'] == analysis['gold'])\n",
    "    &\n",
    "    (analysis['predicted_y'] != analysis['gold'])\n",
    "    &\n",
    "    (analysis['gold'] == 'positive')\n",
    "]\n",
    "\n",
    "error_group.shape[0]\n",
    "\n",
    "for ex in error_group['raw_examples'].sample(5, random_state=1):\n",
    "    print(\"=\"*70)\n",
    "    print(ex)"
   ]
  },
  {
   "cell_type": "code",
   "execution_count": null,
   "metadata": {},
   "outputs": [],
   "source": [
    "def predict_one_rnn(text):\n",
    "    # List of tokenized examples:\n",
    "    X = [rnn_experiment['phi'](text)]\n",
    "    # Standard `predict` step on a list of lists of str:\n",
    "    # TODO be sure to change the model to eval mode before predicting\n",
    "    preds = rnn_experiment['model'].predict(X)\n",
    "    # Be sure to return the only member of the predictions,\n",
    "    # rather than the singleton list:\n",
    "    return preds[0]"
   ]
  },
  {
   "cell_type": "markdown",
   "metadata": {},
   "source": [
    "# Explaining Errors\n",
    "\n",
    "We can use our concept-based explanations to transparently discover errors and biases in the model."
   ]
  },
  {
   "cell_type": "code",
   "execution_count": null,
   "metadata": {},
   "outputs": [],
   "source": [
    "# TODO try to do this with both examples that the model gets wrong and some hand-written biased sentences to reveal biases in the model."
   ]
  }
 ],
 "metadata": {
  "language_info": {
   "name": "python"
  },
  "orig_nbformat": 4
 },
 "nbformat": 4,
 "nbformat_minor": 2
}
